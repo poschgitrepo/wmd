{
 "cells": [
  {
   "cell_type": "markdown",
   "metadata": {},
   "source": [
    "# Einführung in nbinteract\n",
    "\n",
    "### 1.) Erstellen eines Git Accounts und eines Reposetories \n",
    "\n",
    "Gehen sie auf https://github.com/ und erstellen sie sich ein Account sowie ein Reposetory.\n",
    "\n",
    "Benennen wir das Repo als \"wmd\"\n",
    "\n",
    "    - Das Repo muss aud Public stehen \n",
    "    - Das Repo muss mit einer README initialisiert werden\n",
    "\n",
    "Nachfolgend ist in die Einstellungen des Repos zu sehen\n",
    "\n",
    "<img style=\"float: left;\" src=\"PIC/image.png\" >\n",
    "\n",
    "\n",
    "\n",
    "\n"
   ]
  },
  {
   "cell_type": "markdown",
   "metadata": {},
   "source": [
    "### 2.) Initialisieren des Reposetories auf mybinder.org\n",
    "\n",
    "Gehen sie auf  http://mybinder.org/ und initialisieren sie ihr Reposetory.\n",
    "Geben sie hierzu den Pfad ihres Gits ein\n"
   ]
  },
  {
   "cell_type": "markdown",
   "metadata": {},
   "source": [
    "<div>\n",
    "<img style=\"float: left;\" src=\"PIC/image2.png\"  width=\"400\" >\n",
    "</div> "
   ]
  },
  {
   "cell_type": "markdown",
   "metadata": {},
   "source": [
    "Nachfolgend öffnet der Binder Server eine Jupyter Notebook Fenster in dem sie den Ihr Aotebook online ohne offline Installation von Jupyter Notebook benötigen \n",
    "\n",
    "In diesem Beispiel betrachten wir jedoch die Verwendung mit einem offline am PC intsalliertn Jupyter Notebook "
   ]
  },
  {
   "cell_type": "markdown",
   "metadata": {},
   "source": [
    "### 3.) Clonen des Reposetories (local)\n",
    "\n",
    "Hierzu sollten sie zunächst ihr Reposetory local clonen. Öffnen sie ein Terminal (z.B. Anaconda Prompt Shell).  \n",
    "\n",
    "Hinweis: Sollten sie noch nie mit Git gearbeitet haben sollten sie zunächst Git im Terminal installieren. \n",
    "\n",
    "Im Fall von Anaconda: "
   ]
  },
  {
   "cell_type": "raw",
   "metadata": {},
   "source": [
    " conda install -c anaconda git"
   ]
  },
  {
   "cell_type": "markdown",
   "metadata": {},
   "source": [
    "Nachfolgenden können Sie die das Repo in ihren gewünschten Ordner clonen"
   ]
  },
  {
   "cell_type": "raw",
   "metadata": {},
   "source": [
    "# Clone the repo\n",
    "{your folder}: git clone https://github.com/{username}/wmd\n",
    "\n",
    "# Move into the repo directory\n",
    "cd wmd\n",
    "\n",
    "# Start Jupyter\n",
    "jupyter notebook"
   ]
  },
  {
   "cell_type": "markdown",
   "metadata": {},
   "source": [
    "### 4.) Installieren und Initialisieren von nbinteract \n",
    "\n",
    "Gehen sie wieder in das locale Terminal. Hier ab besten das Terminal in Jupyter drirekt\n",
    "\n"
   ]
  },
  {
   "cell_type": "markdown",
   "metadata": {},
   "source": [
    "<div>\n",
    "<img style=\"float: center;\" src=\"PIC/image3.png\"  width=\"300\" >\n",
    "</div> "
   ]
  },
  {
   "cell_type": "markdown",
   "metadata": {},
   "source": [
    "\n",
    "Installieren sie nbinteract:"
   ]
  },
  {
   "cell_type": "raw",
   "metadata": {},
   "source": [
    "pip install nbinteract"
   ]
  },
  {
   "cell_type": "markdown",
   "metadata": {},
   "source": [
    "Gehen sie im Terminal nun in den Ordner in dem sich auch das Repo befindet\n",
    "(über cd {yourpath})\n",
    "\n",
    "Initialisieren sie nun ihr Verzeichnismit folgender Eingabe:"
   ]
  },
  {
   "cell_type": "markdown",
   "metadata": {},
   "source": [
    "# Initializes nbinteract.\n",
    "nbinteract init\n",
    "\n",
    "git add -A\n",
    "git commit -m \"Setup nbinteract\"\n",
    "git push origin master"
   ]
  },
  {
   "cell_type": "markdown",
   "metadata": {},
   "source": [
    "Nun sollte sich in ihrem localen Verzeichnis eine requirements.txt  erstellt haben in dieser sollten sie alle benutzen pakete eintragen z.b. numpy"
   ]
  },
  {
   "cell_type": "markdown",
   "metadata": {},
   "source": [
    "# Erstellen eines ersten Notebooks\n",
    "\n",
    "Zunächst erstellen wir eine Notebook was interaktiv auf die Eingabe der Benutzer reagiert. Hierzu gibt es ein generelles vorgehen.\n",
    "    - Import aller benötigten Pakete \n",
    "    - Erstellung von Funktionen die später interaktiv in der Html Seite aus-geführt werden sollen \n",
    "    - Aufruf der geeigneten Eingabemethode\n",
    "    \n",
    "#### IMPORT    \n",
    " "
   ]
  },
  {
   "cell_type": "code",
   "execution_count": 14,
   "metadata": {},
   "outputs": [],
   "source": [
    "from ipywidgets import interact\n",
    "import nbinteract as nbi"
   ]
  },
  {
   "cell_type": "markdown",
   "metadata": {},
   "source": [
    "### BSP 1:  Flächenberechnung mittels Schieberegler   \n",
    "\n",
    "Wir wollen berechnen \n",
    "\n",
    "$$A=a*b$$\n",
    "\n",
    "<div>\n",
    "<img style=\"float: center;\" src=\"PIC/image4.png\"  width=\"300\" >\n",
    "</div> "
   ]
  },
  {
   "cell_type": "markdown",
   "metadata": {},
   "source": [
    "#### Erstellen der Funktion mittels def"
   ]
  },
  {
   "cell_type": "code",
   "execution_count": 15,
   "metadata": {},
   "outputs": [],
   "source": [
    "def square(a,b):\n",
    "    return 'Die Fläche A beträgt {} m^2'.format(a * float(b))"
   ]
  },
  {
   "cell_type": "markdown",
   "metadata": {},
   "source": [
    "#### Erstellen der Eingabemaske 2 Beispiele"
   ]
  },
  {
   "cell_type": "code",
   "execution_count": 20,
   "metadata": {},
   "outputs": [
    {
     "data": {
      "application/vnd.jupyter.widget-view+json": {
       "model_id": "057ed31a1fd74493889830d58254e75d",
       "version_major": 2,
       "version_minor": 0
      },
      "text/plain": [
       "interactive(children=(IntSlider(value=50, description='a', step=5), Text(value='1.5', description='b'), Output…"
      ]
     },
     "metadata": {},
     "output_type": "display_data"
    },
    {
     "data": {
      "application/vnd.jupyter.widget-view+json": {
       "model_id": "fef8769c018d41c2912841e532a3a7ff",
       "version_major": 2,
       "version_minor": 0
      },
      "text/plain": [
       "interactive(children=(IntSlider(value=50, description='a', step=5), Dropdown(description='b', options={'One': …"
      ]
     },
     "metadata": {},
     "output_type": "display_data"
    }
   ],
   "source": [
    "# nbi:left\n",
    "interact(square, a=(0,100,5),b='1.5');\n",
    "# nbi:right\n",
    "interact(square, a=(0,100,5),b={'One': 1, 'Five': 5, 'Ten': 10});"
   ]
  },
  {
   "cell_type": "code",
   "execution_count": null,
   "metadata": {},
   "outputs": [],
   "source": []
  }
 ],
 "metadata": {
  "kernelspec": {
   "display_name": "Python 3",
   "language": "python",
   "name": "python3"
  },
  "language_info": {
   "codemirror_mode": {
    "name": "ipython",
    "version": 3
   },
   "file_extension": ".py",
   "mimetype": "text/x-python",
   "name": "python",
   "nbconvert_exporter": "python",
   "pygments_lexer": "ipython3",
   "version": "3.7.6"
  }
 },
 "nbformat": 4,
 "nbformat_minor": 2
}
