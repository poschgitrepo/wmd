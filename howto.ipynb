{
 "cells": [
  {
   "cell_type": "markdown",
   "metadata": {},
   "source": [
    "# Einführung in nbinteract\n",
    "\n",
    "### 1.) Erstellen eines Git Accounts und eines Reposetories \n",
    "\n",
    "Gehen sie auf https://github.com/ und erstellen sie sich ein Account sowie ein Reposetory.\n",
    "\n",
    "Benennen wir das Repo als \"wmd\"\n",
    "\n",
    "    - Das Repo muss aud Public stehen \n",
    "    - Das Repo muss mit einer README initialisiert werden\n",
    "\n",
    "Nachfolgend ist in die Einstellungen des Repos zu sehen\n",
    "\n",
    "<img style=\"float: left;\" src=\"./PIC/image.png\" >\n",
    "\n",
    "\n",
    "\n",
    "\n"
   ]
  },
  {
   "cell_type": "markdown",
   "metadata": {},
   "source": [
    "### 2.) Initialisieren des Reposetories auf mybinder.org\n",
    "\n",
    "Gehen sie auf  http://mybinder.org/ und initialisieren sie ihr Reposetory.\n",
    "Geben sie hierzu den Pfad ihres Gits ein\n"
   ]
  },
  {
   "cell_type": "markdown",
   "metadata": {},
   "source": [
    "\n",
    "<img style=\"float: left;\" src=\"./PIC/image2.PNG\"  width=\"400\" >\n"
   ]
  },
  {
   "cell_type": "markdown",
   "metadata": {},
   "source": [
    "Nachfolgend öffnet der Binder Server eine Jupyter Notebook Fenster in dem sie den Ihr Aotebook online ohne offline Installation von Jupyter Notebook benötigen \n",
    "\n",
    "In diesem Beispiel betrachten wir jedoch die Verwendung mit einem offline am PC intsalliertn Jupyter Notebook "
   ]
  },
  {
   "cell_type": "markdown",
   "metadata": {},
   "source": [
    "### 3.) Clonen des Reposetories (local)\n",
    "\n",
    "Hierzu sollten sie zunächst ihr Reposetory local clonen. Öffnen sie ein Terminal (z.B. Anaconda Prompt Shell).  \n",
    "\n",
    "Hinweis: Sollten sie noch nie mit Git gearbeitet haben sollten sie zunächst Git im Terminal installieren. \n",
    "\n",
    "Im Fall von Anaconda: "
   ]
  },
  {
   "cell_type": "markdown",
   "metadata": {},
   "source": [
    "```terminal\n",
    "conda install -c anaconda git\n",
    "```"
   ]
  },
  {
   "cell_type": "markdown",
   "metadata": {},
   "source": [
    "Nachfolgenden können Sie die das Repo in ihren gewünschten Ordner clonen"
   ]
  },
  {
   "cell_type": "markdown",
   "metadata": {},
   "source": [
    "```terminal\n",
    "# Clone the repo\n",
    "{your folder}: git clone https://github.com/{username}/wmd\n",
    "# Move into the repo directory\n",
    "cd wmd\n",
    "# Start Jupyter\n",
    "jupyter notebook\n",
    "```"
   ]
  },
  {
   "cell_type": "markdown",
   "metadata": {},
   "source": [
    "### 4.) Installieren und Initialisieren von nbinteract \n",
    "\n",
    "Gehen sie wieder in das locale Terminal. Hier ab besten das Terminal in Jupyter drirekt\n",
    "\n"
   ]
  },
  {
   "cell_type": "markdown",
   "metadata": {},
   "source": [
    "<img style=\"float: center;\" src=\"./PIC/image3.PNG\"  width=\"300\" >"
   ]
  },
  {
   "cell_type": "markdown",
   "metadata": {},
   "source": [
    "\n",
    "Installieren sie nbinteract:"
   ]
  },
  {
   "cell_type": "markdown",
   "metadata": {},
   "source": [
    "```\n",
    "pip install nbinteract\n",
    "```"
   ]
  },
  {
   "cell_type": "markdown",
   "metadata": {},
   "source": [
    "Gehen sie im Terminal nun in den Ordner in dem sich auch das Repo befindet\n",
    "(über cd {yourpath})\n",
    "\n",
    "Initialisieren sie nun ihr Verzeichnismit folgender Eingabe:"
   ]
  },
  {
   "cell_type": "markdown",
   "metadata": {},
   "source": [
    "# Initializes nbinteract.\n",
    "nbinteract init\n",
    "\n",
    "git add -A\n",
    "git commit -m \"Setup nbinteract\"\n",
    "git push origin master"
   ]
  },
  {
   "cell_type": "markdown",
   "metadata": {},
   "source": [
    "Nun sollte sich in ihrem localen Verzeichnis eine requirements.txt  erstellt haben in dieser sollten sie alle benutzen pakete eintragen z.b. numpy"
   ]
  },
  {
   "cell_type": "markdown",
   "metadata": {},
   "source": [
    "# Erstellen eines ersten Notebooks\n",
    "\n",
    "Zunächst erstellen wir eine Notebook was interaktiv auf die Eingabe der Benutzer reagiert. Hierzu gibt es ein generelles vorgehen.\n",
    "    - Import aller benötigten Pakete \n",
    "    - Erstellung von Funktionen die später interaktiv in der Html Seite aus-geführt werden sollen \n",
    "    - Aufruf der geeigneten Eingabemethode\n",
    "    \n",
    "#### IMPORT    \n",
    " "
   ]
  },
  {
   "cell_type": "code",
   "execution_count": 22,
   "metadata": {},
   "outputs": [],
   "source": [
    "from ipywidgets import interact\n",
    "import nbinteract as nbi"
   ]
  },
  {
   "cell_type": "markdown",
   "metadata": {},
   "source": [
    "### BSP 1:  Flächenberechnung mittels Schieberegler   \n",
    "\n",
    "Wir wollen berechnen \n",
    "\n",
    "$$A=a*b$$\n",
    "<div>\n",
    "<img style=\"float: center;\" src=\"./PIC/image4.PNG\" width=\"300\" >\n",
    "</div>    "
   ]
  },
  {
   "cell_type": "markdown",
   "metadata": {},
   "source": [
    "#### Erstellen der Funktion mittels def"
   ]
  },
  {
   "cell_type": "code",
   "execution_count": 23,
   "metadata": {},
   "outputs": [],
   "source": [
    "def square(a,b):\n",
    "    return 'Die Fläche A beträgt {} m^2'.format(a * float(b))"
   ]
  },
  {
   "cell_type": "markdown",
   "metadata": {},
   "source": [
    "#### Erstellen der Eingabemaske 2 Beispiele"
   ]
  },
  {
   "cell_type": "code",
   "execution_count": 24,
   "metadata": {},
   "outputs": [
    {
     "data": {
      "application/vnd.jupyter.widget-view+json": {
       "model_id": "e230cbbb91d545cb85fef7ea09186520",
       "version_major": 2,
       "version_minor": 0
      },
      "text/plain": [
       "interactive(children=(IntSlider(value=50, description='a', step=5), Text(value='1.5', description='b'), Output…"
      ]
     },
     "metadata": {},
     "output_type": "display_data"
    }
   ],
   "source": [
    "# nbi:left\n",
    "interact(square, a=(0,100,5),b='1.5');\n"
   ]
  },
  {
   "cell_type": "code",
   "execution_count": 25,
   "metadata": {},
   "outputs": [
    {
     "data": {
      "application/vnd.jupyter.widget-view+json": {
       "model_id": "6cbcc32c19404a44bedcd9094fe9aa68",
       "version_major": 2,
       "version_minor": 0
      },
      "text/plain": [
       "interactive(children=(IntSlider(value=50, description='a', step=5), Dropdown(description='b', options={'One': …"
      ]
     },
     "metadata": {},
     "output_type": "display_data"
    }
   ],
   "source": [
    "# nbi:right\n",
    "interact(square, a=(0,100,5),b={'One': 1, 'Five': 5, 'Ten': 10});"
   ]
  },
  {
   "cell_type": "markdown",
   "metadata": {},
   "source": [
    "### BSP 1:  Funktion Plotten mittels Schieberegler   \n",
    "\n",
    "Wir wollen berechnen \n",
    "\n",
    "$$f(x)=a\\cdot x+b$$ \n",
    "\n",
    "oder \n",
    "\n",
    "$$f(x)=a\\cdot x^2+b*x + c$$ \n",
    "\n",
    "und anschließend plotten \n",
    "\n",
    "#### Einbinden des Matplotlib paketes \n",
    "\n",
    "Hinweis: Binden sie das Paket auch in die requierements.txt ein --> hier einfach ''matplotlib'' eintragen"
   ]
  },
  {
   "cell_type": "code",
   "execution_count": 43,
   "metadata": {},
   "outputs": [],
   "source": [
    "import matplotlib.pyplot as plt \n",
    "%matplotlib inline\n",
    "import numpy as np"
   ]
  },
  {
   "cell_type": "markdown",
   "metadata": {},
   "source": [
    "#### Erstellen der Funktion"
   ]
  },
  {
   "cell_type": "code",
   "execution_count": 27,
   "metadata": {},
   "outputs": [],
   "source": [
    "def lin(a,b,x):\n",
    "    return a*x+b\n",
    "def quad(a,b,c,x):\n",
    "    return a*x**2+b*x+c"
   ]
  },
  {
   "cell_type": "markdown",
   "metadata": {},
   "source": [
    "#### Erstellen der Plot funktion"
   ]
  },
  {
   "cell_type": "code",
   "execution_count": 28,
   "metadata": {},
   "outputs": [],
   "source": [
    "def funk_plot(Bereich,Funktion,a,b,c=0):\n",
    "    x=np.zeros(int(Bereich)*100)\n",
    "    y=np.zeros(int(Bereich)*100)\n",
    "    for i in range(0,int(Bereich)*100):\n",
    "        x[i]=i/100\n",
    "        if Funktion =='Linear':\n",
    "            y[i]=lin(a,b,x[i])\n",
    "            title='Lineare'\n",
    "            label='$f(x)=$'+str(a)+'$\\cdot x+$'+str(b)\n",
    "        if Funktion =='Quadratisch':\n",
    "            y[i]=quad(a,b,c,x[i])\n",
    "            title='Quadratische'\n",
    "            label='$f(x)=$'+str(a)+'$\\cdot x^2+$'+str(b)+'$\\cdot x+$'+str(c)\n",
    "           \n",
    "    plt.plot(x,y, label=r'Funktion: '+label)\n",
    "    plt.title(title+'-Funktion') \n",
    "    plt.xlabel('$x$')\n",
    "    plt.ylabel('$y$')\n",
    "    plt.legend()\n",
    "    plt.grid()\n",
    "    plt.show()\n"
   ]
  },
  {
   "cell_type": "markdown",
   "metadata": {},
   "source": [
    "### Testen der beiden Funktion (statisch)"
   ]
  },
  {
   "cell_type": "code",
   "execution_count": 29,
   "metadata": {},
   "outputs": [
    {
     "data": {
      "image/png": "[encoded data removed]",
      "text/plain": [
       "<Figure size 432x288 with 1 Axes>"
      ]
     },
     "metadata": {
      "needs_background": "light"
     },
     "output_type": "display_data"
    }
   ],
   "source": [
    "funk_plot(10,'Linear',1,2)"
   ]
  },
  {
   "cell_type": "code",
   "execution_count": 30,
   "metadata": {},
   "outputs": [
    {
     "data": {
      "image/png": "[encoded data removed]",
      "text/plain": [
       "<Figure size 432x288 with 1 Axes>"
      ]
     },
     "metadata": {
      "needs_background": "light"
     },
     "output_type": "display_data"
    }
   ],
   "source": [
    "funk_plot(10,'Quadratisch',1,2,3)"
   ]
  },
  {
   "cell_type": "markdown",
   "metadata": {},
   "source": [
    "### Erstellen der Interaktiven Funktionen"
   ]
  },
  {
   "cell_type": "code",
   "execution_count": 46,
   "metadata": {},
   "outputs": [
    {
     "data": {
      "application/vnd.jupyter.widget-view+json": {
       "model_id": "87a9aaddeaed4745827a691104a8adf1",
       "version_major": 2,
       "version_minor": 0
      },
      "text/plain": [
       "interactive(children=(Text(value='10', description='Bereich'), Dropdown(description='Funktion', options=('Line…"
      ]
     },
     "metadata": {},
     "output_type": "display_data"
    },
    {
     "data": {
      "text/plain": [
       "<function __main__.funk_plot(Bereich, Funktion, a, b, c=0)>"
      ]
     },
     "execution_count": 46,
     "metadata": {},
     "output_type": "execute_result"
    }
   ],
   "source": [
    "# nbi: hide_out\n",
    "interact(funk_plot,a=(0,100,5),b=(0,100,5),c=(0,100,5),Bereich='10',Funktion={'Quadratisch','Linear'})"
   ]
  },
  {
   "cell_type": "markdown",
   "metadata": {},
   "source": [
    "## Versteckte Funktionen in gesonderten Datein\n",
    "\n",
    "Um eine übersuchtliche Seite zu erstellen gliedern wir Funktionben aus und speichern Sie in eine gesonderte *.py* Datei ab um sie später für interaktive felder zu nutzen.\n",
    "\n",
    "Die Idee:\n",
    "\n",
    "Wir möchen Nachfolgenden Code (Funktion und Sinn irrelevant) komplett auserhalb des Notebooks laufen lassen aber die Ausgabe mit variabel einzustellenden Werten innerhallb des Notebooks haben.\n",
    "\n"
   ]
  },
  {
   "cell_type": "code",
   "execution_count": 32,
   "metadata": {},
   "outputs": [],
   "source": [
    "import random as rd\n",
    "from numpy import sqrt,zeros\n",
    "from matplotlib.pyplot import plot,close\n",
    "\n",
    "close\n",
    "def huge_plot(E=70000,SIG_Y=300 ,v=0.3,eta_min=-0.005,eta_max=0.005,NC=500):\n",
    "    eta_min=float(eta_min)\n",
    "    eta_max=float(eta_max)\n",
    "    G=float(E)/(2.*(1+v))\n",
    "    SIG_R_1=zeros(NC)\n",
    "    SIG_G_1=zeros(NC)\n",
    "    SIG_R_2=zeros(NC)\n",
    "    SIG_G_2=zeros(NC)\n",
    "    for i in range(1,NC):\n",
    "       EPS_XX=rd.uniform(eta_min,eta_max)\n",
    "       EPS_YY=rd.uniform(eta_min,eta_max)\n",
    "       GAM_XY=rd.uniform(eta_min,eta_max)\n",
    "       SIG_XX=(E/(1-v**2))*(EPS_XX+v*EPS_YY)\n",
    "       SIG_YY=(E/(1-v**2))*(EPS_YY+v*EPS_XX)\n",
    "       TAU_XY=G*GAM_XY    \n",
    "       SIG_1=((SIG_XX+SIG_YY)/2)+sqrt(((SIG_XX-SIG_YY)/2)**2+TAU_XY**2)\n",
    "       SIG_2=((SIG_XX+SIG_YY)/2)-sqrt(((SIG_XX-SIG_YY)/2)**2+TAU_XY**2)\n",
    "       SIG_v3=sqrt(0.5*((SIG_1-SIG_2)**2+SIG_1**2+SIG_2**2))\n",
    "       f=SIG_v3-SIG_Y   \n",
    "       if f<0:\n",
    "           SIG_G_1[i]=SIG_1\n",
    "           SIG_G_2[i]=SIG_2\n",
    "       elif f>0: \n",
    "           SIG_R_1[i]=SIG_1\n",
    "           SIG_R_2[i]=SIG_2       \n",
    "    plot(SIG_G_1,SIG_G_2,'go')\n",
    "    plot(SIG_R_1,SIG_R_2,'ro')  \n",
    "    plot(-SIG_G_1,-SIG_G_2,'go')\n",
    "    plot(-SIG_R_1,-SIG_R_2,'ro')     "
   ]
  },
  {
   "cell_type": "code",
   "execution_count": 33,
   "metadata": {},
   "outputs": [
    {
     "data": {
      "application/vnd.jupyter.widget-view+json": {
       "model_id": "55c3a4d620c9403587960b4ffd69d492",
       "version_major": 2,
       "version_minor": 0
      },
      "text/plain": [
       "interactive(children=(IntSlider(value=70000, description='E', max=210000, min=-70000), IntSlider(value=300, de…"
      ]
     },
     "metadata": {},
     "output_type": "display_data"
    },
    {
     "data": {
      "text/plain": [
       "<function __main__.huge_plot(E=70000, SIG_Y=300, v=0.3, eta_min=-0.005, eta_max=0.005, NC=500)>"
      ]
     },
     "execution_count": 33,
     "metadata": {},
     "output_type": "execute_result"
    }
   ],
   "source": [
    "interact(huge_plot,eta_min='-0.005',eta_max='0.005')"
   ]
  },
  {
   "cell_type": "markdown",
   "metadata": {},
   "source": [
    "Importieren einer verstekten Funktion aus einem gesonderten Notebook"
   ]
  },
  {
   "cell_type": "code",
   "execution_count": 68,
   "metadata": {},
   "outputs": [
    {
     "data": {
      "image/png": "[encoded data removed]",
      "text/plain": [
       "<Figure size 432x288 with 1 Axes>"
      ]
     },
     "metadata": {
      "needs_background": "light"
     },
     "output_type": "display_data"
    }
   ],
   "source": [
    "\n",
    "%run .\\hiddencode\n",
    "\n",
    "huge_plot_2()"
   ]
  },
  {
   "cell_type": "code",
   "execution_count": null,
   "metadata": {},
   "outputs": [],
   "source": []
  },
  {
   "cell_type": "markdown",
   "metadata": {},
   "source": [
    "Nun kann die in der verstekten Datei vorhandene Funktion huge_plot_2 ausgeführt werden. Diese ist exakt die gleiche wie in dem vorherigen Code-Abschnitt"
   ]
  },
  {
   "cell_type": "code",
   "execution_count": 71,
   "metadata": {},
   "outputs": [
    {
     "data": {
      "application/vnd.jupyter.widget-view+json": {
       "model_id": "e8337d4f548142c6ad5acf0ed038d99e",
       "version_major": 2,
       "version_minor": 0
      },
      "text/plain": [
       "interactive(children=(IntSlider(value=70000, description='E', max=210000, min=-70000), IntSlider(value=300, de…"
      ]
     },
     "metadata": {},
     "output_type": "display_data"
    },
    {
     "data": {
      "text/plain": [
       "<function __main__.huge_plot_2(E=70000, SIG_Y=300, v=0.3, eta_min=-0.005, eta_max=0.005, NC=500)>"
      ]
     },
     "execution_count": 71,
     "metadata": {},
     "output_type": "execute_result"
    }
   ],
   "source": [
    "\n",
    "interact(huge_plot_2,eta_min='-0.005',eta_max='0.005')"
   ]
  },
  {
   "cell_type": "code",
   "execution_count": null,
   "metadata": {},
   "outputs": [],
   "source": []
  }
 ],
 "metadata": {
  "kernelspec": {
   "display_name": "Python 3",
   "language": "python",
   "name": "python3"
  },
  "language_info": {
   "codemirror_mode": {
    "name": "ipython",
    "version": 3
   },
   "file_extension": ".py",
   "mimetype": "text/x-python",
   "name": "python",
   "nbconvert_exporter": "python",
   "pygments_lexer": "ipython3",
   "version": "3.7.6"
  }
 },
 "nbformat": 4,
 "nbformat_minor": 2
}
